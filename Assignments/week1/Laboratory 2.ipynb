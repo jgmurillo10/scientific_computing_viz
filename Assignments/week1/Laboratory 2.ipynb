{
 "cells": [
  {
   "cell_type": "markdown",
   "metadata": {},
   "source": [
    "# Laboratory 2\n",
    "## Exploring Flow Simulation\n"
   ]
  },
  {
   "cell_type": "markdown",
   "metadata": {},
   "source": [
    "\n",
    "### Generating 2D Mesh in Salome\n",
    "#### First of all we need to create the mesh with Salome\n",
    "* Initialize the Geometry 2D and create the entities necesaries.\n",
    "* Make the cuts necesary for the surface.\n",
    "* We create the groups in order to define our two boundaries: Surface and Farfield.\n",
    "<!-- <img src=\"data/l1/1.PNG\" width=\"600\"> -->\n",
    "<img src=\"data/l1/1.PNG\">\n",
    "* Create a new mesh for the Surface\n",
    "* Set up the meshing algorithm.\n",
    "* 1D: wire discretization\n",
    "* For hypothesis we set up the number of segments: for the inner boundary we set up more segments than for the outer boundary.\n",
    "* Create a sub-mesh for the Farfield.\n",
    "* Compute.\n",
    "<img src=\"data/l1/2.PNG\">\n",
    "* Create groups from geometry, one for the Surface and another for the Farfield.\n",
    "<img src=\"data/l1/3.PNG\">\n",
    "#### After creating the mesh we need to export the mesh to the format needed by SU2\n",
    "<img src=\"data/l1/4.PNG\">"
   ]
  },
  {
   "cell_type": "markdown",
   "metadata": {
    "collapsed": true
   },
   "source": [
    "### Computing the simulation With SU2"
   ]
  },
  {
   "cell_type": "markdown",
   "metadata": {},
   "source": [
    "### Visualizying the simulation with VTK"
   ]
  }
 ],
 "metadata": {
  "kernelspec": {
   "display_name": "Python 3",
   "language": "python",
   "name": "python3"
  },
  "language_info": {
   "codemirror_mode": {
    "name": "ipython",
    "version": 3
   },
   "file_extension": ".py",
   "mimetype": "text/x-python",
   "name": "python",
   "nbconvert_exporter": "python",
   "pygments_lexer": "ipython3",
   "version": "3.6.1"
  }
 },
 "nbformat": 4,
 "nbformat_minor": 2
}
