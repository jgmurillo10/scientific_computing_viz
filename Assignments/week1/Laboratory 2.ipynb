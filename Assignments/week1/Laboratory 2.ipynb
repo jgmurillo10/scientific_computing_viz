{
 "cells": [
  {
   "cell_type": "markdown",
   "metadata": {},
   "source": [
    "# Laboratory 2\n",
    "## Exploring Flow Simulation\n"
   ]
  },
  {
   "cell_type": "markdown",
   "metadata": {},
   "source": [
    "\n",
    "### Generating 2D Mesh in Salome\n",
    "#### First of all we need to create the mesh with Salome\n",
    "* Initialize the Geometry 2D and create the entities necesaries.\n",
    "* Make the cuts necesary for the surface.\n",
    "* We create the groups in order to define our two boundaries: Surface and Farfield.\n",
    "<!-- <img src=\"data/l1/1.PNG\" width=\"600\"> -->\n",
    "<img src=\"data/l1/1.png\"/>\n",
    "* Create a new mesh for the Surface\n",
    "* Set up the meshing algorithm.\n",
    "* 1D: wire discretization\n",
    "* For hypothesis we set up the number of segments: for the inner boundary we set up more segments than for the outer boundary.\n",
    "* Create a sub-mesh for the Farfield.\n",
    "* Compute.\n",
    "<img src=\"files/data/l1/2.png\">\n",
    "* Create groups from geometry, one for the Surface and another for the Farfield.\n",
    "<img src=\"files/data/l1/3.png\">\n",
    "#### After creating the mesh we need to export the mesh to the format needed by SU2\n",
    "<img src=\"files/data/l1/4.png\">"
   ]
  },
  {
   "cell_type": "markdown",
   "metadata": {
    "collapsed": true
   },
   "source": [
    "### Computing the simulation With SU2\n",
    "In order to execute SU2 we need to:\n",
    "* Open cmd\n",
    "* Place in the folder where the configuration file is placed (Mesh_1.cfg) \n",
    "* Execute the file SU2_CFD.exe passing by parameter the configuration file\n",
    "<br>\n",
    "`C:\\Users\\Administrador\\Downloads\\sim C:\\SU2\\Database\\SU2_CFD.exe Mesh_1.cfg`\n",
    "<br>\n",
    "In this example in the folder `C:\\Users\\Administrador\\Downloads\\sim` is the configuration file and the other path is where SU2 is installed.\n",
    "<img src=\"data/l1/5.png\">\n"
   ]
  },
  {
   "cell_type": "markdown",
   "metadata": {},
   "source": [
    "### Visualizying the simulation with VTK"
   ]
  },
  {
   "cell_type": "markdown",
   "metadata": {},
   "source": [
    "The previous step generate some output files, the one that we will be using in this step is the flow1.vtk file, in order to visualize with Paraview.\n",
    "* Open the `flow1.vtk` file with Paraview\n",
    "* Apply the file loaded.\n",
    "* Add a calculator and compute `(Conservative_2*iHat)+(Conservative_3*jHat)` in the calculator.\n",
    "* Add the StreamTracer\n",
    "* Place the line \n",
    "* Apply changes\n",
    "<img src=\"data/l1/6.png\">"
   ]
  },
  {
   "cell_type": "markdown",
   "metadata": {},
   "source": [
    "We also can modify the resolution\n",
    "<img src=\"data/l1/8.png\">\n",
    "<img src=\"data/l1/9.png\">\n",
    "<img src=\"data/l1/10.png\">\n",
    "<img src=\"data/l1/11.png\">\n",
    "<img src=\"data/l1/12.png\">\n",
    "<img src=\"data/l1/13.png\">\n",
    "<img src=\"data/l1/14.png\">\n",
    "<img src=\"data/l1/15.png\">"
   ]
  },
  {
   "cell_type": "code",
   "execution_count": null,
   "metadata": {
    "collapsed": true
   },
   "outputs": [],
   "source": []
  }
 ],
 "metadata": {
  "kernelspec": {
   "display_name": "Python 3",
   "language": "python",
   "name": "python3"
  },
  "language_info": {
   "codemirror_mode": {
    "name": "ipython",
    "version": 3
   },
   "file_extension": ".py",
   "mimetype": "text/x-python",
   "name": "python",
   "nbconvert_exporter": "python",
   "pygments_lexer": "ipython3",
   "version": "3.6.1"
  }
 },
 "nbformat": 4,
 "nbformat_minor": 2
}
