{
 "cells": [
  {
   "cell_type": "markdown",
   "metadata": {},
   "source": [
    "# Python Examples\n",
    "## Cylinder"
   ]
  },
  {
   "cell_type": "code",
   "execution_count": 18,
   "metadata": {},
   "outputs": [],
   "source": [
    "#!/usr/bin/env python\n",
    "\n",
    "# This simple example shows how to do basic rendering and pipeline\n",
    "# creation.\n",
    "\n",
    "import vtk\n",
    "# The colors module defines various useful colors.\n",
    "from vtk.util.colors import tomato\n",
    "\n",
    "# This creates a polygonal cylinder model with eight circumferential\n",
    "# facets.\n",
    "cylinder = vtk.vtkCylinderSource()\n",
    "cylinder.SetResolution(8)\n",
    "\n",
    "# The mapper is responsible for pushing the geometry into the graphics\n",
    "# library. It may also do color mapping, if scalars or other\n",
    "# attributes are defined.\n",
    "cylinderMapper = vtk.vtkPolyDataMapper()\n",
    "cylinderMapper.SetInputConnection(cylinder.GetOutputPort())\n",
    "\n",
    "# The actor is a grouping mechanism: besides the geometry (mapper), it\n",
    "# also has a property, transformation matrix, and/or texture map.\n",
    "# Here we set its color and rotate it -22.5 degrees.\n",
    "cylinderActor = vtk.vtkActor()\n",
    "cylinderActor.SetMapper(cylinderMapper)\n",
    "cylinderActor.GetProperty().SetColor(tomato)\n",
    "cylinderActor.RotateX(30.0)\n",
    "cylinderActor.RotateY(-45.0)\n",
    "\n",
    "# Create the graphics structure. The renderer renders into the render\n",
    "# window. The render window interactor captures mouse events and will\n",
    "# perform appropriate camera or actor manipulation depending on the\n",
    "# nature of the events.\n",
    "ren = vtk.vtkRenderer()\n",
    "renWin = vtk.vtkRenderWindow()\n",
    "renWin.AddRenderer(ren)\n",
    "iren = vtk.vtkRenderWindowInteractor()\n",
    "iren.SetRenderWindow(renWin)\n",
    "\n",
    "# Add the actors to the renderer, set the background and size\n",
    "ren.AddActor(cylinderActor)\n",
    "ren.SetBackground(0.1, 0.2, 0.4)\n",
    "renWin.SetSize(200, 200)\n",
    "\n",
    "# This allows the interactor to initalize itself. It has to be\n",
    "# called before an event loop.\n",
    "iren.Initialize()\n",
    "\n",
    "# We'll zoom in a little by accessing the camera and invoking a \"Zoom\"\n",
    "# method on it.\n",
    "ren.ResetCamera()\n",
    "ren.GetActiveCamera().Zoom(1.5)\n",
    "renWin.Render()\n",
    "\n",
    "# Start the event loop.\n",
    "iren.Start()"
   ]
  },
  {
   "cell_type": "markdown",
   "metadata": {},
   "source": [
    "## Distance between two points"
   ]
  },
  {
   "cell_type": "code",
   "execution_count": 6,
   "metadata": {},
   "outputs": [
    {
     "name": "stdout",
     "output_type": "stream",
     "text": [
      "p0=  (0, 0, 0)\n",
      "p1=  (1, 1, 1)\n",
      "distance squared=  3.0\n",
      "distance=  1.7320508075688772\n"
     ]
    }
   ],
   "source": [
    "from __future__ import print_function\n",
    "import vtk\n",
    "import math\n",
    "p0=(0,0,0)\n",
    "p1=(1,1,1)\n",
    "distSquared = vtk.vtkMath.Distance2BetweenPoints(p0,p1)\n",
    "dist = math.sqrt(distSquared)\n",
    "\n",
    "print(\"p0= \",p0)\n",
    "print(\"p1= \",p1)\n",
    "print(\"distance squared= \", distSquared)\n",
    "print(\"distance= \",dist)"
   ]
  },
  {
   "cell_type": "markdown",
   "metadata": {},
   "source": [
    "## PLYWriter"
   ]
  },
  {
   "cell_type": "code",
   "execution_count": 12,
   "metadata": {},
   "outputs": [],
   "source": [
    "import vtk\n",
    "\n",
    "filename = \"writeply.ply\"\n",
    "sphereSource = vtk.vtkSphereSource()\n",
    "sphereSource.Update()\n",
    "\n",
    "plyWriter = vtk.vtkPLYWriter()\n",
    "plyWriter.SetFileName(filename)\n",
    "plyWriter.SetInputConnection(sphereSource.GetOutputPort())\n",
    "plyWriter.Write()\n",
    "#read and display for verification\n",
    "\n",
    "reader = vtk.vtkPLYReader()\n",
    "reader.SetFileName(filename)\n",
    "reader.Update()\n",
    "\n",
    "mapper = vtk.vtkPolyDataMapper()\n",
    "mapper.SetInputConnection(reader.GetOutputPort())\n",
    "\n",
    "actor = vtk.vtkActor()\n",
    "actor.SetMapper(mapper)\n",
    "\n",
    "renderer = vtk.vtkRenderer()\n",
    "renderer.AddActor(actor)\n",
    "renderer.SetBackground(.3,.6,.3)\n",
    "renWindow = vtk.vtkRenderWindow()\n",
    "renWindow.AddRenderer(renderer)\n",
    "renWinInteractor = vtk.vtkRenderWindowInteractor()\n",
    "renWinInteractor.SetRenderWindow(renWindow)\n",
    "\n",
    "renWindow.Render()\n",
    "renWinInteractor.Start()"
   ]
  },
  {
   "cell_type": "markdown",
   "metadata": {},
   "source": [
    "## STLWriter"
   ]
  },
  {
   "cell_type": "code",
   "execution_count": 17,
   "metadata": {},
   "outputs": [],
   "source": [
    "import vtk\n",
    "filename = \"test.stl\"\n",
    "sphereSource= vtk.vtkSphereSource()\n",
    "sphereSource.Update()\n",
    "#write the stle file to disk\n",
    "stlWriter = vtk.vtkSTLWriter()\n",
    "stlWriter.SetFileName(filename)\n",
    "stlWriter.SetInputConnection(sphereSource.GetOutputPort())\n",
    "stlWriter.Write()\n",
    "\n",
    "#Read and display for verification\n",
    "reader = vtk.vtkSTLReader()\n",
    "reader.SetFileName(filename)\n",
    "mapper = vtk.vtkPolyDataMapper()\n",
    "if vtk.VTK_MAJOR_VERSION <= 5:\n",
    "    mapper.SetInput(reader.GetOutput())\n",
    "else:\n",
    "    mapper.SetInputConnection(reader.GetOutputPort())\n",
    "\n",
    "actor = vtk.vtkActor()\n",
    "actor.SetMapper(mapper)\n",
    "\n",
    "renderer = vtk.vtkRenderer()\n",
    "renderer.AddActor(actor)\n",
    "\n",
    "render = vtk.vtkRenderWindow()\n",
    "render.AddRenderer(renderer)\n",
    "\n",
    "interactor = vtk.vtkRenderWindowInteractor()\n",
    "interactor.SetRenderWindow(render)\n",
    "\n",
    "interactor.Initialize()\n",
    "renderer.Render()\n",
    "interactor.Start()\n"
   ]
  },
  {
   "cell_type": "markdown",
   "metadata": {},
   "source": [
    "## UnstructuredGridReader"
   ]
  },
  {
   "cell_type": "code",
   "execution_count": 20,
   "metadata": {
    "collapsed": true
   },
   "outputs": [],
   "source": [
    "from vtk import *\n",
    "file_name= \"uGridEx.vtk\"\n",
    "#read the source file.\n",
    "reader = vtkUnstructuredGridReader()\n",
    "reader.SetFileName(file_name)\n",
    "reader.Update() # needed because of GetScalarRange\n",
    "output = reader.GetOutput()\n",
    "scalar_range = output.GetScalarRange()\n",
    "\n",
    "# Create the mapper that corresponds the objects of the vtk file\n",
    "mapper = vtkDataSetMapper()\n",
    "mapper.SetInputData(output)\n",
    "mapper.SetScalarRange(scalar_range)\n",
    "\n",
    "#create actor\n",
    "actor= vtkActor()\n",
    "actor.SetMapper(mapper)\n",
    "\n",
    "#renderer and renderer window\n",
    "renderer = vtkRenderer()\n",
    "renderer.AddActor(actor)\n",
    "renderer.SetBackground(1,1,1)\n",
    "\n",
    "renderer_window = vtkRenderWindow()\n",
    "renderer_window.AddRenderer(renderer)\n",
    "\n",
    "interactor = vtkRenderWindowInteractor()\n",
    "interactor.SetRenderWindow(renderer_window)\n",
    "interactor.Initialize()\n",
    "interactor.Start()\n",
    "\n",
    "\n"
   ]
  },
  {
   "cell_type": "code",
   "execution_count": null,
   "metadata": {
    "collapsed": true
   },
   "outputs": [],
   "source": []
  }
 ],
 "metadata": {
  "kernelspec": {
   "display_name": "Python 3",
   "language": "python",
   "name": "python3"
  },
  "language_info": {
   "codemirror_mode": {
    "name": "ipython",
    "version": 3
   },
   "file_extension": ".py",
   "mimetype": "text/x-python",
   "name": "python",
   "nbconvert_exporter": "python",
   "pygments_lexer": "ipython3",
   "version": "3.6.1"
  }
 },
 "nbformat": 4,
 "nbformat_minor": 2
}
