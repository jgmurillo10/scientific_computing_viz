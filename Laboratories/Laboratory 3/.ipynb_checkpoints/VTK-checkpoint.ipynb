{
 "cells": [
  {
   "cell_type": "markdown",
   "metadata": {},
   "source": [
    "# VTK Examples \n",
    "## Rendering a Cube.\n",
    "### Pipeline for the cube example\n",
    "<img src=\"imgs/pipeline_cube.png\">"
   ]
  },
  {
   "cell_type": "code",
   "execution_count": 8,
   "metadata": {},
   "outputs": [],
   "source": [
    "#source\n",
    "import vtk\n",
    "#generate polygon data for a cube\n",
    "cube = vtk.vtkCubeSource()\n",
    "#create a mapper for the cube data\n",
    "mapper = vtk.vtkPolyDataMapper()\n",
    "mapper.SetInputConnection(cube.GetOutputPort())\n",
    "#connect the mapper to an actor\n",
    "actor = vtk.vtkActor()\n",
    "actor.SetMapper(mapper)\n",
    "actor.GetProperty().SetColor(1,0,0)\n",
    "#create the renderer and add the cube actor to it\n",
    "renderer = vtk.vtkRenderer()\n",
    "renderer.SetBackground(0,0,0)\n",
    "renderer.AddActor(actor)\n",
    "#create a render window\n",
    "render = vtk.vtkRenderWindow()\n",
    "render.SetWindowName(\"Simple VTK Scene\")\n",
    "render.SetSize(400,400)\n",
    "render.AddRenderer(renderer)\n",
    "#create an interactor\n",
    "interactor = vtk.vtkRenderWindowInteractor()\n",
    "interactor.SetRenderWindow(render)\n",
    "\n",
    "#initialize the interactor and start the rendering loop\n",
    "interactor.Initialize()\n",
    "render.Render()\n",
    "interactor.Start()\n"
   ]
  },
  {
   "cell_type": "code",
   "execution_count": null,
   "metadata": {
    "collapsed": true
   },
   "outputs": [],
   "source": []
  }
 ],
 "metadata": {
  "kernelspec": {
   "display_name": "Python 3",
   "language": "python",
   "name": "python3"
  },
  "language_info": {
   "codemirror_mode": {
    "name": "ipython",
    "version": 3
   },
   "file_extension": ".py",
   "mimetype": "text/x-python",
   "name": "python",
   "nbconvert_exporter": "python",
   "pygments_lexer": "ipython3",
   "version": "3.6.1"
  }
 },
 "nbformat": 4,
 "nbformat_minor": 2
}
