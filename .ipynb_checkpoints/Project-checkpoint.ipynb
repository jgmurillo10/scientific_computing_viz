{
 "cells": [
  {
   "cell_type": "markdown",
   "metadata": {},
   "source": [
    "# ProgrammableFilters"
   ]
  },
  {
   "cell_type": "code",
   "execution_count": 51,
   "metadata": {},
   "outputs": [
    {
     "name": "stdout",
     "output_type": "stream",
     "text": [
      "[array([0, 0]), array([0, 1]), array([0, 2]), array([0, 3]), array([0, 4]), array([0, 5]), array([0, 6]), array([0, 7]), array([0, 8]), array([0, 9]), array([ 0, 10]), array([ 0, 11]), array([ 0, 12]), array([ 0, 13]), array([ 0, 14]), array([ 0, 15]), array([ 0, 16]), array([ 0, 17]), array([ 0, 18]), array([ 0, 19]), array([ 0, 20]), array([ 0, 21]), array([ 0, 22]), array([ 0, 23]), array([ 0, 24]), array([ 0, 25]), array([ 0, 26]), array([ 0, 27]), array([ 0, 28]), array([ 0, 29]), array([ 0, 30]), array([ 0, 31]), array([ 0, 32]), array([ 0, 33]), array([ 0, 34]), array([ 0, 35]), array([ 0, 36]), array([ 0, 37]), array([ 0, 38]), array([ 0, 39]), array([ 0, 40]), array([ 0, 41]), array([ 0, 42]), array([ 0, 43]), array([ 0, 44]), array([ 0, 45]), array([ 0, 46]), array([ 0, 47]), array([ 0, 48]), array([ 0, 49]), array([ 0, 50]), array([ 0, 51]), array([ 0, 52]), array([ 0, 53]), array([ 0, 54]), array([ 0, 55]), array([ 0, 56]), array([ 0, 57]), array([ 0, 58]), array([ 0, 59]), array([ 0, 60]), array([ 0, 61]), array([ 0, 62]), array([ 0, 63]), array([ 0, 64]), array([ 0, 65]), array([ 0, 66]), array([ 0, 67]), array([ 0, 68]), array([ 0, 69]), array([ 0, 70]), array([ 0, 71]), array([ 0, 72]), array([ 0, 73]), array([ 0, 74]), array([ 0, 75]), array([ 0, 76]), array([ 0, 77]), array([ 0, 78]), array([ 0, 79]), array([ 0, 80]), array([ 0, 81]), array([ 0, 82]), array([ 0, 83]), array([ 0, 84]), array([ 0, 85]), array([ 0, 86]), array([ 0, 87]), array([ 0, 88]), array([ 0, 89]), array([ 0, 90]), array([ 0, 91]), array([ 0, 92]), array([ 0, 93]), array([ 0, 94]), array([ 0, 95]), array([ 0, 96]), array([ 0, 97]), array([ 0, 98]), array([ 0, 99])]\n",
      "<class 'list'>\n"
     ]
    }
   ],
   "source": [
    "import numpy\n",
    "new_ar = numpy.empty(0)\n",
    "new_ar = [numpy.append(new_ar,i) for i in range(100)]\n",
    "print(new_ar)\n",
    "print(type(new_ar))"
   ]
  },
  {
   "cell_type": "code",
   "execution_count": null,
   "metadata": {
    "collapsed": true
   },
   "outputs": [],
   "source": []
  },
  {
   "cell_type": "code",
   "execution_count": null,
   "metadata": {
    "collapsed": true
   },
   "outputs": [],
   "source": []
  }
 ],
 "metadata": {
  "kernelspec": {
   "display_name": "Python 3",
   "language": "python",
   "name": "python3"
  },
  "language_info": {
   "codemirror_mode": {
    "name": "ipython",
    "version": 3
   },
   "file_extension": ".py",
   "mimetype": "text/x-python",
   "name": "python",
   "nbconvert_exporter": "python",
   "pygments_lexer": "ipython3",
   "version": "3.6.1"
  }
 },
 "nbformat": 4,
 "nbformat_minor": 2
}
