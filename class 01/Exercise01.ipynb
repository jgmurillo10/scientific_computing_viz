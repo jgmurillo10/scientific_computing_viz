{
 "cells": [
  {
   "cell_type": "markdown",
   "metadata": {},
   "source": [
    "## Exercise\n",
    "### 1. Define a function that returns a list of numbers that sum up to 1 \n",
    "\n",
    "* Generate a list of random numbers\n",
    "* Sum up all the numbers in the list\n",
    "* Take each number in the initial list and divide it by the sum of all numbers\n",
    "* Print the new list\n",
    "* Sum up all the values in the new list. It should sum up to 1"
   ]
  },
  {
   "cell_type": "code",
   "execution_count": null,
   "metadata": {},
   "outputs": [],
   "source": [
    "import random\n",
    "random_numbers = [random.random() for i in range(20)]\n",
    "total_sum = sum(random_numbers)\n",
    "new_list = [i/total_sum for i in random_numbers]\n",
    "print(new_list)\n",
    "print(sum(new_list))"
   ]
  },
  {
   "cell_type": "markdown",
   "metadata": {
    "collapsed": true
   },
   "source": [
    "Testing the variable 'var' stored as global"
   ]
  },
  {
   "cell_type": "code",
   "execution_count": 1,
   "metadata": {},
   "outputs": [
    {
     "name": "stdout",
     "output_type": "stream",
     "text": [
      "This is the var I want to pass to different notebook\n"
     ]
    }
   ],
   "source": [
    "%store -r var\n",
    "print(var)"
   ]
  },
  {
   "cell_type": "code",
   "execution_count": null,
   "metadata": {
    "collapsed": true
   },
   "outputs": [],
   "source": []
  },
  {
   "cell_type": "code",
   "execution_count": null,
   "metadata": {
    "collapsed": true
   },
   "outputs": [],
   "source": []
  }
 ],
 "metadata": {
  "kernelspec": {
   "display_name": "Python 3",
   "language": "python",
   "name": "python3"
  },
  "language_info": {
   "codemirror_mode": {
    "name": "ipython",
    "version": 3
   },
   "file_extension": ".py",
   "mimetype": "text/x-python",
   "name": "python",
   "nbconvert_exporter": "python",
   "pygments_lexer": "ipython3",
   "version": "3.6.1"
  }
 },
 "nbformat": 4,
 "nbformat_minor": 2
}
