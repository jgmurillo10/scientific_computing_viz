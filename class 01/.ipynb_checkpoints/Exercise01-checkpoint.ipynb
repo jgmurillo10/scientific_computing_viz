{
 "cells": [
  {
   "cell_type": "markdown",
   "metadata": {},
   "source": [
    "## Exercise\n",
    "### 1. Define a function that returns a list of numbers that sum up to 1 \n",
    "\n",
    "* Generate a list of random numbers\n",
    "* Sum up all the numbers in the list\n",
    "* Take each number in the initial list and divide it by the sum of all numbers\n",
    "* Print the new list\n",
    "* Sum up all the values in the new list. It should sum up to 1"
   ]
  },
  {
   "cell_type": "code",
   "execution_count": 4,
   "metadata": {},
   "outputs": [
    {
     "name": "stdout",
     "output_type": "stream",
     "text": [
      "[0.03458967848962905, 0.09946144786448108, 0.03465946909657261, 0.05967854353925327, 0.05989339399905497, 0.08179980793480124, 0.04254460048860154, 0.016200627012047986, 0.01098567713017858, 0.03447746018620489, 0.025073482170309472, 0.0006582137822972869, 0.10847930791814024, 0.010099101260970742, 0.06853597677355587, 0.06859860274119794, 0.018978149634360127, 0.09433421729742715, 0.06248773990773103, 0.06846450277318503]\n",
      "1.0\n"
     ]
    }
   ],
   "source": [
    "import random\n",
    "random_numbers = [random.random() for i in range(20)]\n",
    "total_sum = sum(random_numbers)\n",
    "new_list = [i/total_sum for i in random_numbers]\n",
    "print(new_list)\n",
    "print(sum(new_list))"
   ]
  },
  {
   "cell_type": "code",
   "execution_count": null,
   "metadata": {
    "collapsed": true
   },
   "outputs": [],
   "source": []
  }
 ],
 "metadata": {
  "kernelspec": {
   "display_name": "Python 3",
   "language": "python",
   "name": "python3"
  },
  "language_info": {
   "codemirror_mode": {
    "name": "ipython",
    "version": 3
   },
   "file_extension": ".py",
   "mimetype": "text/x-python",
   "name": "python",
   "nbconvert_exporter": "python",
   "pygments_lexer": "ipython3",
   "version": "3.6.1"
  }
 },
 "nbformat": 4,
 "nbformat_minor": 2
}
