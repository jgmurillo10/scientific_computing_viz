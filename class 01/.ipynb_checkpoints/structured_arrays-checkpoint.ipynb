{
 "cells": [
  {
   "cell_type": "code",
   "execution_count": 10,
   "metadata": {},
   "outputs": [
    {
     "name": "stdout",
     "output_type": "stream",
     "text": [
      "[(1,  2., b'Hello') (2,  3., b'World') (5,  5., b'hodsfgs')]\n"
     ]
    }
   ],
   "source": [
    "import numpy as np\n",
    "x = np.array([(1,2.,'Hello'), (2,3.,\"World\"), (5,5.,\"hodsfgs\")], dtype=[('foo', 'i4'),('bar', 'f4'), ('baz', 'S10')])\n",
    "print(x)"
   ]
  },
  {
   "cell_type": "code",
   "execution_count": 11,
   "metadata": {},
   "outputs": [
    {
     "name": "stdout",
     "output_type": "stream",
     "text": [
      "(2,  3., b'World')\n",
      "[1 2 5]\n",
      "[ 2.  3.  5.]\n",
      "[b'Hello' b'World' b'hodsfgs']\n"
     ]
    }
   ],
   "source": [
    "print(x[1])\n",
    "print(x['foo'])\n",
    "print(x['bar'])\n",
    "print(x['baz'])"
   ]
  },
  {
   "cell_type": "code",
   "execution_count": 12,
   "metadata": {},
   "outputs": [
    {
     "name": "stdout",
     "output_type": "stream",
     "text": [
      "[ 2.  3.  5.]\n"
     ]
    }
   ],
   "source": [
    "y = x['bar']\n",
    "print(y)"
   ]
  },
  {
   "cell_type": "code",
   "execution_count": null,
   "metadata": {
    "collapsed": true
   },
   "outputs": [],
   "source": []
  }
 ],
 "metadata": {
  "kernelspec": {
   "display_name": "Python 3",
   "language": "python",
   "name": "python3"
  },
  "language_info": {
   "codemirror_mode": {
    "name": "ipython",
    "version": 3
   },
   "file_extension": ".py",
   "mimetype": "text/x-python",
   "name": "python",
   "nbconvert_exporter": "python",
   "pygments_lexer": "ipython3",
   "version": "3.6.1"
  }
 },
 "nbformat": 4,
 "nbformat_minor": 2
}
